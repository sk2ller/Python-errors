{
  "nbformat": 4,
  "nbformat_minor": 0,
  "metadata": {
    "kernelspec": {
      "display_name": "Python 2",
      "language": "python",
      "name": "python2"
    },
    "language_info": {
      "codemirror_mode": {
        "name": "ipython",
        "version": 3
      },
      "file_extension": ".py",
      "mimetype": "text/x-python",
      "name": "python",
      "nbconvert_exporter": "python",
      "pygments_lexer": "ipython3",
      "version": "3.6.8"
    },
    "colab": {
      "name": "Python error types checkpoint.ipynb",
      "provenance": []
    }
  },
  "cells": [
    {
      "cell_type": "markdown",
      "metadata": {
        "id": "BnA5PscALqYj"
      },
      "source": [
        "# Rectify the code in each cell and **explain the error in comments**"
      ]
    },
    {
      "cell_type": "markdown",
      "metadata": {
        "id": "aZcPJnU5CUJC"
      },
      "source": [
        "### index error"
      ]
    },
    {
      "cell_type": "code",
      "metadata": {
        "id": "vizZiOjyCUJF",
        "colab": {
          "base_uri": "https://localhost:8080/"
        },
        "outputId": "946300c1-7aa5-404e-ed65-228fc1f4896c"
      },
      "source": [
        "mylist=[14, \"hello\", 967]\n",
        "mylist[2]"
      ],
      "execution_count": 1,
      "outputs": [
        {
          "output_type": "execute_result",
          "data": {
            "text/plain": [
              "967"
            ]
          },
          "metadata": {},
          "execution_count": 1
        }
      ]
    },
    {
      "cell_type": "code",
      "metadata": {
        "id": "PctyMmHLfvkb"
      },
      "source": [
        "import pandas\n",
        "import numpy"
      ],
      "execution_count": 4,
      "outputs": []
    },
    {
      "cell_type": "markdown",
      "metadata": {
        "id": "QOOGIm3DCUJb"
      },
      "source": [
        "# syntax error"
      ]
    },
    {
      "cell_type": "code",
      "metadata": {
        "id": "M5R4cb7fCUJb",
        "colab": {
          "base_uri": "https://localhost:8080/"
        },
        "outputId": "dce51095-ba28-49a8-e066-583571d1653c"
      },
      "source": [
        "print(\"python errors\")"
      ],
      "execution_count": 5,
      "outputs": [
        {
          "output_type": "stream",
          "text": [
            "python errors\n"
          ],
          "name": "stdout"
        }
      ]
    },
    {
      "cell_type": "markdown",
      "metadata": {
        "id": "Zllqh28_CUJh"
      },
      "source": [
        "# key error"
      ]
    },
    {
      "cell_type": "code",
      "metadata": {
        "id": "OuWy1e17CUJj",
        "colab": {
          "base_uri": "https://localhost:8080/",
          "height": 35
        },
        "outputId": "dca61e02-e8fc-4e83-c6bd-f1fd46723c32"
      },
      "source": [
        "mydictionnary={True:\"hello\",False:\"bye\", '3':\"python\"}\n",
        "mydictionnary[True]"
      ],
      "execution_count": 6,
      "outputs": [
        {
          "output_type": "execute_result",
          "data": {
            "application/vnd.google.colaboratory.intrinsic+json": {
              "type": "string"
            },
            "text/plain": [
              "'hello'"
            ]
          },
          "metadata": {},
          "execution_count": 6
        }
      ]
    },
    {
      "cell_type": "markdown",
      "metadata": {
        "id": "jc1wRC1aCUJw"
      },
      "source": [
        "# indentation error"
      ]
    },
    {
      "cell_type": "code",
      "metadata": {
        "id": "meWj9PP_CUJy",
        "colab": {
          "base_uri": "https://localhost:8080/"
        },
        "outputId": "6da8126b-40ed-4b42-eb2e-25c254f81157"
      },
      "source": [
        "i=14\n",
        "while i<78:\n",
        " print(i)\n",
        " i+=1"
      ],
      "execution_count": 7,
      "outputs": [
        {
          "output_type": "stream",
          "text": [
            "14\n",
            "15\n",
            "16\n",
            "17\n",
            "18\n",
            "19\n",
            "20\n",
            "21\n",
            "22\n",
            "23\n",
            "24\n",
            "25\n",
            "26\n",
            "27\n",
            "28\n",
            "29\n",
            "30\n",
            "31\n",
            "32\n",
            "33\n",
            "34\n",
            "35\n",
            "36\n",
            "37\n",
            "38\n",
            "39\n",
            "40\n",
            "41\n",
            "42\n",
            "43\n",
            "44\n",
            "45\n",
            "46\n",
            "47\n",
            "48\n",
            "49\n",
            "50\n",
            "51\n",
            "52\n",
            "53\n",
            "54\n",
            "55\n",
            "56\n",
            "57\n",
            "58\n",
            "59\n",
            "60\n",
            "61\n",
            "62\n",
            "63\n",
            "64\n",
            "65\n",
            "66\n",
            "67\n",
            "68\n",
            "69\n",
            "70\n",
            "71\n",
            "72\n",
            "73\n",
            "74\n",
            "75\n",
            "76\n",
            "77\n"
          ],
          "name": "stdout"
        }
      ]
    },
    {
      "cell_type": "markdown",
      "metadata": {
        "id": "-g_eEuEICUJ5"
      },
      "source": [
        "# StopIteration"
      ]
    },
    {
      "cell_type": "code",
      "metadata": {
        "id": "tJv5vQQGCUJ5",
        "colab": {
          "base_uri": "https://localhost:8080/"
        },
        "outputId": "4ee4bb55-8fd3-441e-aee9-a78ec4b1186e"
      },
      "source": [
        "it=iter([1,2,3])\n",
        "next(it)\n",
        "next(it)\n",
        "next(it)"
      ],
      "execution_count": 8,
      "outputs": [
        {
          "output_type": "execute_result",
          "data": {
            "text/plain": [
              "3"
            ]
          },
          "metadata": {},
          "execution_count": 8
        }
      ]
    },
    {
      "cell_type": "markdown",
      "metadata": {
        "id": "0Q0fJoS1CUKA"
      },
      "source": [
        "# TypeError\n"
      ]
    },
    {
      "cell_type": "code",
      "metadata": {
        "id": "rh6bhiQ6CUKA",
        "colab": {
          "base_uri": "https://localhost:8080/"
        },
        "outputId": "8bdd7fab-7291-448d-df9e-e54c31649428"
      },
      "source": [
        "int('15')+15"
      ],
      "execution_count": 9,
      "outputs": [
        {
          "output_type": "execute_result",
          "data": {
            "text/plain": [
              "30"
            ]
          },
          "metadata": {},
          "execution_count": 9
        }
      ]
    },
    {
      "cell_type": "markdown",
      "metadata": {
        "id": "-xs5Em9QCUKF"
      },
      "source": [
        "# ValueError"
      ]
    },
    {
      "cell_type": "code",
      "metadata": {
        "id": "_rUS-J3dCUKH",
        "colab": {
          "base_uri": "https://localhost:8080/"
        },
        "outputId": "4c659014-b872-4b15-d1e6-b4cd325eea5a"
      },
      "source": [
        "int('11')"
      ],
      "execution_count": 10,
      "outputs": [
        {
          "output_type": "execute_result",
          "data": {
            "text/plain": [
              "11"
            ]
          },
          "metadata": {},
          "execution_count": 10
        }
      ]
    },
    {
      "cell_type": "markdown",
      "metadata": {
        "id": "SIKftfJSCUKM"
      },
      "source": [
        "# NameError"
      ]
    },
    {
      "cell_type": "code",
      "metadata": {
        "id": "j3ZhAO67CUKM"
      },
      "source": [
        "python=10"
      ],
      "execution_count": 13,
      "outputs": []
    },
    {
      "cell_type": "markdown",
      "metadata": {
        "id": "kNtxxeuaCUKT"
      },
      "source": [
        "# ZeroDivisionError"
      ]
    },
    {
      "cell_type": "code",
      "metadata": {
        "id": "hTaVRw1GCUKW"
      },
      "source": [
        "x=19/2"
      ],
      "execution_count": 14,
      "outputs": []
    }
  ]
}